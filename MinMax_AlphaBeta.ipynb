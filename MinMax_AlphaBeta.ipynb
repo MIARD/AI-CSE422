{
  "nbformat": 4,
  "nbformat_minor": 0,
  "metadata": {
    "colab": {
      "name": "MinMax_AlphaBeta.ipynb",
      "provenance": [],
      "collapsed_sections": [],
      "include_colab_link": true
    },
    "kernelspec": {
      "name": "python3",
      "display_name": "Python 3"
    },
    "language_info": {
      "name": "python"
    }
  },
  "cells": [
    {
      "cell_type": "markdown",
      "metadata": {
        "id": "view-in-github",
        "colab_type": "text"
      },
      "source": [
        "<a href=\"https://colab.research.google.com/github/MIARD/AI-CSE422/blob/main/MinMax_AlphaBeta.ipynb\" target=\"_parent\"><img src=\"https://colab.research.google.com/assets/colab-badge.svg\" alt=\"Open In Colab\"/></a>"
      ]
    },
    {
      "cell_type": "markdown",
      "metadata": {
        "id": "y8XENHMmK-bn"
      },
      "source": [
        "#**Node**"
      ]
    },
    {
      "cell_type": "code",
      "metadata": {
        "id": "VWTCmhDJI_II"
      },
      "source": [
        "import random\n",
        "class Node:\n",
        "    def __init__(self, parent = None, value = None):\n",
        "        self.childs = None\n",
        "        self.parent = parent\n",
        "        self.value = value"
      ],
      "execution_count": null,
      "outputs": []
    },
    {
      "cell_type": "markdown",
      "metadata": {
        "id": "yqsuJXeSKuth"
      },
      "source": [
        "#**Tree class**"
      ]
    },
    {
      "cell_type": "code",
      "metadata": {
        "id": "PQ4M4Z1JQC9b"
      },
      "source": [
        "class Tree:\n",
        "    def __init__(self, depth, branch, start, end, parent_head = None, clone = False):\n",
        "        self.head = Node()\n",
        "        self.depth = depth\n",
        "        self.branch = branch\n",
        "        self.start = start\n",
        "        self.end = end\n",
        "        self.create_tree(self.head, 0, parent_head, clone)\n",
        "    \n",
        "    def cloneNode(self, parent_node, clone_node, index):\n",
        "        return Node(parent_node, clone_node.childs[index].value)\n",
        "\n",
        "    def create_tree(self, cur_node, cur_depth, pHead = None, clone = False):\n",
        "        if cur_depth >= self.depth:\n",
        "            return\n",
        "        cur_node.childs = []\n",
        "        for index in range(0, self.branch):\n",
        "            if cur_depth + 1 == self.depth:\n",
        "                random_num = random.randint(self.start, self.end)\n",
        "                if not clone:\n",
        "                    cur_node.childs.append(Node(cur_node, random_num))\n",
        "                else:\n",
        "                    cur_node.childs.append(self.cloneNode(cur_node, pHead, index))\n",
        "            else:\n",
        "                cur_node.childs.append(Node(cur_node))\n",
        "                if not clone:\n",
        "                    self.create_tree(cur_node.childs[index], cur_depth + 1)\n",
        "                else:\n",
        "                    self.create_tree(cur_node.childs[index], cur_depth + 1, pHead.childs[index], True)\n",
        "    \n",
        "    def clone(self):\n",
        "        new_tree = Tree(self.depth, self.branch, self.start, self.end, self.head,True)\n",
        "        return new_tree\n",
        "\n",
        "    def print(self):\n",
        "        for level in range(0, self.depth + 1):\n",
        "            string = self.print_level(self.head, level, \"\")\n",
        "            if level != self.depth:\n",
        "              leaf_nodes = (self.branch **(self.depth + 1)) * 4\n",
        "              cur_level_nodes = (self.branch**(level + 1))\n",
        "              string_arr = [x.center((leaf_nodes + cur_level_nodes * 4) // cur_level_nodes ) for x in string.strip().split() ]\n",
        "              string = \"\".join(string_arr)\n",
        "              print(string)\n",
        "            else:\n",
        "              print(string)\n",
        "\n",
        "    def print_level(self, cur_node, level, string):\n",
        "        if cur_node is None:\n",
        "            return \" \"\n",
        "        if level == 0:\n",
        "            return str(cur_node.value).ljust(5, \" \")\n",
        "        elif level > 0:\n",
        "            temp_str = \"\"\n",
        "            for child in cur_node.childs:\n",
        "                temp_str += self.print_level(child, level - 1, string)\n",
        "            return string + temp_str + \" \"*2"
      ],
      "execution_count": null,
      "outputs": []
    },
    {
      "cell_type": "markdown",
      "metadata": {
        "id": "BrrDWKlUNmJT"
      },
      "source": [
        "#**Taking Input & Creating Trees**"
      ]
    },
    {
      "cell_type": "code",
      "metadata": {
        "id": "odFsn8CHQEsD"
      },
      "source": [
        "data = None\n",
        "try:\n",
        "    file = open(\"input.txt\", 'r')\n",
        "    data = file.read()\n",
        "    file.close()\n",
        "except Exception as error:\n",
        "    print(\"Something wrong when opening file\")\n",
        "if data is not None:\n",
        "    lines = data.splitlines()\n",
        "    depth = 2 * int(lines[0])\n",
        "    branch = int(lines[1])\n",
        "    start, end = [int(num) for num in lines[2].split(\" \")]\n",
        "    tree = Tree(depth, branch, start, end)\n",
        "    tree1 = tree.clone()\n",
        "    tree2 = tree.clone()\n",
        "    print(\"tree1:\")\n",
        "    tree1.print()\n",
        "    print(\"\\ntree2: \")\n",
        "    tree2.print()"
      ],
      "execution_count": null,
      "outputs": []
    },
    {
      "cell_type": "markdown",
      "metadata": {
        "id": "wFAHh-MZOm1B"
      },
      "source": [
        "#**Minimax(Tree)**"
      ]
    },
    {
      "cell_type": "code",
      "metadata": {
        "id": "gR2tf4LuOhUY"
      },
      "source": [
        "def miniMax(cur_node, depth, maxPlayer, step = 0):\n",
        "    step += 1\n",
        "    if depth == 0:\n",
        "        return [cur_node.value, step]\n",
        "    if maxPlayer:\n",
        "        maxEval = float('-inf')\n",
        "        for child in cur_node.childs:\n",
        "            eval, child_step = miniMax(child, depth - 1, False, step)\n",
        "            step = max(step, child_step)\n",
        "            maxEval = max(maxEval, eval)\n",
        "        return [maxEval, step]\n",
        "    else:\n",
        "        minEval = float('inf')\n",
        "        for child in cur_node.childs:\n",
        "            eval, child_step = miniMax(child, depth - 1, True, step)\n",
        "            step = max(step, child_step)\n",
        "            minEval = min(minEval, eval)\n",
        "        return [minEval, step]"
      ],
      "execution_count": null,
      "outputs": []
    },
    {
      "cell_type": "markdown",
      "metadata": {
        "id": "asJvNDerKYN2"
      },
      "source": [
        "#**Alpha-Beta purning(Tree)**"
      ]
    },
    {
      "cell_type": "code",
      "metadata": {
        "id": "h7PEMS5AqV-w"
      },
      "source": [
        "def alpha_beta_pruning(cur_node, depth, alpha, beta, maxPlayer, step = 0):\n",
        "    step += 1\n",
        "    if depth == 0:\n",
        "        return [cur_node.value, step]\n",
        "    if maxPlayer:\n",
        "        maxEval = float('-inf')\n",
        "        for child in cur_node.childs:\n",
        "            eval, child_step = alpha_beta_pruning(child, depth - 1, alpha, beta, False, step)\n",
        "            step = max(step, child_step)\n",
        "            maxEval = max( maxEval, eval)\n",
        "            alpha = max(alpha, eval)\n",
        "            if alpha >= beta:\n",
        "                break\n",
        "        cur_node.value = maxEval\n",
        "        return [maxEval, step]\n",
        "    else:\n",
        "        minEval = float('inf')\n",
        "        for child in cur_node.childs:\n",
        "            eval, child_step = alpha_beta_pruning(child, depth - 1, alpha, beta, True, step)\n",
        "            step = max(step, child_step)\n",
        "            minEval = min(minEval, eval)\n",
        "            beta = min(beta, eval)\n",
        "            if alpha >= beta:\n",
        "                break\n",
        "        cur_node.value = minEval\n",
        "        return [minEval, step]\n"
      ],
      "execution_count": null,
      "outputs": []
    },
    {
      "cell_type": "code",
      "metadata": {
        "colab": {
          "base_uri": "https://localhost:8080/"
        },
        "id": "5b4ELiJ9sSDu",
        "outputId": "b738952c-3e08-4fa4-ab90-595a00ee0a08"
      },
      "source": [
        "if __name__=='__main__':\n",
        "    lines = None\n",
        "    try:\n",
        "        file = open(\"input.txt\", 'r')\n",
        "        lines = file.read()\n",
        "        lines = data.splitlines()\n",
        "        depth = 2 * int(lines[0])\n",
        "        branch = int(lines[1])\n",
        "        start, end = [int(num) for num in lines[2].split(\" \")]\n",
        "        file.close()\n",
        "    except Exception as error:\n",
        "        print(\"Something wrong when opening file. Prining with default values\")\n",
        "    if lines is None:\n",
        "        depth = 2\n",
        "        branch = 3\n",
        "        start, end = 1, 20\n",
        "        total_leaf_node = branch ** 2\n",
        "       \n",
        "    total_leaf_node = branch ** depth\n",
        "    tree = Tree(depth, branch, start, end)\n",
        "    tree1 = tree.clone()\n",
        "    tree2 = tree.clone()\n",
        "    # print(\"tree1:\")\n",
        "    # tree1.print()\n",
        "    # print(\"\\ntree2: \")\n",
        "    # tree2.print()\n",
        "    alpha = float('-inf')\n",
        "    beta = float('inf')\n",
        "    result_minimax = miniMax(tree1.head, depth, True)\n",
        "    # tree1.print()\n",
        "    result_alpha_beta = alpha_beta_pruning(tree2.head, depth, alpha, beta, True)\n",
        "    # tree2.print()\n",
        "    print(f\"Depth: {depth}\\nBranch: {branch}\")\n",
        "    print(\"Terminal States(Leaf Nodes): \", total_leaf_node)\n",
        "    # print(*leaf_nodes, sep = \", \")\n",
        "    print(\"Maximum amount: \", result_minimax[0])\n",
        "    print(\"Comparisons: \", result_minimax[1])\n",
        "    print(\"Comparisons: \", result_alpha_beta[1])"
      ],
      "execution_count": null,
      "outputs": [
        {
          "output_type": "stream",
          "text": [
            "Something wrong when opening file. Prining with default values\n",
            "Depth: 2\n",
            "Branch: 3\n",
            "Terminal States(Leaf Nodes):  9\n",
            "Maximum amount:  7\n",
            "Comparisons:  13\n",
            "Comparisons:  11\n"
          ],
          "name": "stdout"
        }
      ]
    },
    {
      "cell_type": "markdown",
      "metadata": {
        "id": "M1cX3OIiOblJ"
      },
      "source": [
        "#**Minimax(Array)**"
      ]
    },
    {
      "cell_type": "code",
      "metadata": {
        "id": "2mz_0-RVUgRr"
      },
      "source": [
        "def miniMax2(arr, depth,branch, maxPlayer, step = 0):\n",
        "    step += 1\n",
        "    if depth == 0:\n",
        "        return [arr.pop(0), step]\n",
        "    if maxPlayer:\n",
        "        maxEval = float('-inf')\n",
        "        for _ in range(0, branch):\n",
        "            eval, child_step = miniMax2(arr, depth - 1, branch, False, step)\n",
        "            step = max(step, child_step)\n",
        "            maxEval = max(maxEval, eval)\n",
        "        return [maxEval, step]\n",
        "    else:\n",
        "        minEval = float('inf')\n",
        "        for _ in range(0, branch):\n",
        "            eval, child_step = miniMax2(arr, depth - 1, branch, True, step)\n",
        "            step = max(step, child_step)\n",
        "            minEval = min(minEval, eval)\n",
        "        return [minEval, step]"
      ],
      "execution_count": null,
      "outputs": []
    },
    {
      "cell_type": "markdown",
      "metadata": {
        "id": "GJFulLMgOWXZ"
      },
      "source": [
        "#**Alpha-Beta pruning(Array)**"
      ]
    },
    {
      "cell_type": "code",
      "metadata": {
        "id": "Q2XRC-jCWdom"
      },
      "source": [
        "def alpha_beta_pruning2(arr, depth, branch, alpha, beta, maxPlayer, step = 0):\n",
        "    step += 1\n",
        "    if depth == 0:\n",
        "        return [arr.pop(0), step]\n",
        "    if maxPlayer:\n",
        "        maxEval = float('-inf')\n",
        "        for _ in range(0, branch):\n",
        "            eval, child_step = alpha_beta_pruning2(arr, depth - 1, branch, alpha, beta, False, step)\n",
        "            step = max(step, child_step)\n",
        "            maxEval = max( maxEval, eval)\n",
        "            alpha = max(alpha, eval)\n",
        "            if alpha >= beta:\n",
        "                break\n",
        "        return [maxEval, step]\n",
        "    else:\n",
        "        minEval = float('inf')\n",
        "        for _ in range(0, branch):\n",
        "            eval, child_step = alpha_beta_pruning2(arr, depth - 1, branch, alpha, beta, True, step)\n",
        "            step = max(step, child_step)\n",
        "            minEval = min(minEval, eval)\n",
        "            beta = min(beta, eval)\n",
        "            if alpha >= beta:\n",
        "                break\n",
        "        return [minEval, step]"
      ],
      "execution_count": null,
      "outputs": []
    },
    {
      "cell_type": "markdown",
      "metadata": {
        "id": "O22BNsdMONaG"
      },
      "source": [
        "#**Taking Input & Running Methods**"
      ]
    },
    {
      "cell_type": "code",
      "metadata": {
        "id": "wb86KQyHdUFG",
        "colab": {
          "base_uri": "https://localhost:8080/"
        },
        "outputId": "d39029b3-5228-4fe0-b4f3-dc7eb1f953cc"
      },
      "source": [
        "if __name__ == '__main__':\n",
        "  lines = None\n",
        "  try:\n",
        "      with open(\"input.txt\", 'r') as file:\n",
        "        lines = file.read().splitlines()\n",
        "        depth = 2 * int(lines[0])\n",
        "        branch = int(lines[1])\n",
        "        start, end = [int(num) for num in lines[2].split(\" \")]\n",
        "  except IOError as error:\n",
        "      print(\"Something wrong when opening file. Running with some default values...\\n\")\n",
        "\n",
        "  if lines is None:\n",
        "    depth = 2\n",
        "    branch = 3\n",
        "    start, end = 1, 20\n",
        "    total_leaf_node = branch ** 2\n",
        "  leaf_nodes = random.sample(range(start, end), branch**depth)\n",
        "  # leaf_nodes = [4, 16, 17, 9, 5, 15, 11, 7, 14 ] \n",
        "  result_minimax = miniMax2(leaf_nodes.copy(), depth, branch, True )\n",
        "  result_alpa_beta = alpha_beta_pruning2(leaf_nodes.copy(), depth, branch, float('-inf'), float('inf'), True )\n",
        "  print(f\"Depth: {depth}\\nBranch: {branch}\")\n",
        "  print(\"Terminal States(Leaf Nodes): \", total_leaf_node)\n",
        "  # print(*leaf_nodes, sep = \", \")\n",
        "  print(\"Maximum amount: \", result_minimax[0])\n",
        "  print(\"Comparisons: \", result_minimax[1])\n",
        "  print(\"Comparisons: \", result_alpa_beta[1])"
      ],
      "execution_count": null,
      "outputs": [
        {
          "output_type": "stream",
          "text": [
            "Something wrong when opening file. Running with some default values...\n",
            "\n",
            "Depth: 2\n",
            "Branch: 3\n",
            "Terminal States(Leaf Nodes):  9\n",
            "Maximum amount:  13\n",
            "Comparisons:  13\n",
            "Comparisons:  10\n"
          ],
          "name": "stdout"
        }
      ]
    },
    {
      "cell_type": "code",
      "metadata": {
        "id": "g9eNNM8mFfKz"
      },
      "source": [
        "def minimax_alphaBeta(arr, depth, branch, alpha = float('-inf'), beta = float('inf'), maxPlayer = True, step = 0, alpha_beta = False):\n",
        "    step += 1\n",
        "    if depth == 0:\n",
        "        return [arr.pop(0), step]\n",
        "    if maxPlayer:\n",
        "        maxEval = float('-inf')\n",
        "        for _ in range(0, branch):\n",
        "            if alpha_beta:\n",
        "              eval, child_step = minimax_alphaBeta(arr, depth - 1, branch, alpha, beta, False, step, True)\n",
        "            else:\n",
        "              eval, child_step = minimax_alphaBeta(arr, depth - 1, branch, maxPlayer = False, step= step)\n",
        "            step = max(step, child_step)\n",
        "            maxEval = max( maxEval, eval)\n",
        "            if alpha_beta:\n",
        "              alpha = max(alpha, eval)\n",
        "              if alpha >= beta:\n",
        "                  break\n",
        "        return [maxEval, step]\n",
        "    else:\n",
        "        minEval = float('inf')\n",
        "        for _ in range(0, branch):\n",
        "            if alpha_beta:\n",
        "              eval, child_step = minimax_alphaBeta(arr, depth - 1, branch, alpha, beta, True, step, True)\n",
        "            else:\n",
        "              eval, child_step = minimax_alphaBeta(arr, depth - 1, branch, maxPlayer = True, step=step)\n",
        "            step = max(step, child_step)\n",
        "            minEval = min(minEval, eval)\n",
        "            if alpha_beta:\n",
        "              beta = min(beta, eval)\n",
        "              if alpha >= beta:\n",
        "                  break\n",
        "        return [minEval, step]"
      ],
      "execution_count": null,
      "outputs": []
    },
    {
      "cell_type": "markdown",
      "metadata": {
        "id": "kZUPJgqyOswW"
      },
      "source": [
        "#**Running minimax_alphabeta**"
      ]
    },
    {
      "cell_type": "code",
      "metadata": {
        "colab": {
          "base_uri": "https://localhost:8080/"
        },
        "id": "sa_FtPswK5c6",
        "outputId": "60281f46-e063-4c2a-c2cc-98368414f11d"
      },
      "source": [
        "arr = random.sample(range(start, end), branch**depth)\n",
        "arr = [4, 16, 17, 9, 5, 15, 11, 7, 14 ] \n",
        "result = minimax_alphaBeta(arr.copy(), depth, branch)\n",
        "print(result)\n",
        "result = minimax_alphaBeta(arr.copy(), depth, branch, alpha_beta = True )\n",
        "print(result)"
      ],
      "execution_count": null,
      "outputs": [
        {
          "output_type": "stream",
          "text": [
            "[7, 13]\n",
            "[7, 13]\n"
          ],
          "name": "stdout"
        }
      ]
    },
    {
      "cell_type": "code",
      "metadata": {
        "id": "uMMb-ysJLeoJ"
      },
      "source": [
        ""
      ],
      "execution_count": null,
      "outputs": []
    }
  ]
}