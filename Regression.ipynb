{
  "nbformat": 4,
  "nbformat_minor": 0,
  "metadata": {
    "colab": {
      "name": "Regression.ipynb",
      "provenance": [],
      "collapsed_sections": [],
      "include_colab_link": true
    },
    "kernelspec": {
      "name": "python3",
      "display_name": "Python 3"
    }
  },
  "cells": [
    {
      "cell_type": "markdown",
      "metadata": {
        "id": "view-in-github",
        "colab_type": "text"
      },
      "source": [
        "<a href=\"https://colab.research.google.com/github/MIARD/AI-CSE422/blob/main/Regression.ipynb\" target=\"_parent\"><img src=\"https://colab.research.google.com/assets/colab-badge.svg\" alt=\"Open In Colab\"/></a>"
      ]
    },
    {
      "cell_type": "markdown",
      "metadata": {
        "id": "ZSrx8m2T_iDY"
      },
      "source": [
        "# CSE422 Artificial Intelligence\n",
        "###Regression\n",
        "\n",
        "This weel we'll study various regression tecniques in ML. Before starting, let's get accustomed to a cool little library named sympy because we'll need this throughout the entire lab.\n",
        "\n",
        "Sympy is a library which can be used to easily create mathematical expressions and do operations on them. Let's consider the follwing mathematical expression,\n",
        "\n",
        "$$ \\frac{1}{2N} (y - (mx + b))^2 $$\n",
        "\n",
        "See how the expression can be created with sympy"
      ]
    },
    {
      "cell_type": "code",
      "metadata": {
        "id": "f7uaaPTh4tFL"
      },
      "source": [
        "import sympy as sp #importing sympy\n",
        "\n",
        "# Dedining a set of mathematical symbols\n",
        "vars = sp.symbols('x y m b N')\n",
        "\n",
        "x, y,m,b,N = vars\n",
        "\n",
        "#creating the expression\n",
        "expr = ((1/(2*N)) * ((y - (m*x+b))**2))"
      ],
      "execution_count": 34,
      "outputs": []
    },
    {
      "cell_type": "markdown",
      "metadata": {
        "id": "pSIjBXxbDJvb"
      },
      "source": [
        "We can use the display() function to visualize expressions"
      ]
    },
    {
      "cell_type": "code",
      "metadata": {
        "id": "2Tb4n1IP7cle",
        "colab": {
          "base_uri": "https://localhost:8080/",
          "height": 56
        },
        "outputId": "4ba3c25b-f497-46de-f666-3c85b3ad693f"
      },
      "source": [
        "display(expr)"
      ],
      "execution_count": 35,
      "outputs": [
        {
          "output_type": "display_data",
          "data": {
            "text/latex": "$\\displaystyle \\frac{\\left(- b - m x + y\\right)^{2}}{2 N}$",
            "text/plain": [
              "(-b - m*x + y)**2/(2*N)"
            ]
          },
          "metadata": {}
        }
      ]
    },
    {
      "cell_type": "markdown",
      "metadata": {
        "id": "rHcGe7QWDcVw"
      },
      "source": [
        "There are multiple unknows in the expression. We can substitude the unknows with numeric values in dictonary format. In the format, we pass the variable name as key and the corresponding numeric form as the value. We use the subs() function for substitution"
      ]
    },
    {
      "cell_type": "code",
      "metadata": {
        "id": "-tFRFotHQ6he",
        "colab": {
          "base_uri": "https://localhost:8080/"
        },
        "outputId": "70e85271-d7cf-47ce-cf37-045809d0f978"
      },
      "source": [
        "print(expr.subs({N:1, b:4, m:5}))"
      ],
      "execution_count": 36,
      "outputs": [
        {
          "output_type": "stream",
          "name": "stdout",
          "text": [
            "(-5*x + y - 4)**2/2\n"
          ]
        }
      ]
    },
    {
      "cell_type": "markdown",
      "metadata": {
        "id": "ellYxzv3D82T"
      },
      "source": [
        "Substituting all the variables"
      ]
    },
    {
      "cell_type": "code",
      "metadata": {
        "id": "_S8S4nnGRJTn",
        "colab": {
          "base_uri": "https://localhost:8080/"
        },
        "outputId": "d7df7762-0432-4fe3-c772-b2b2f2a4d02e"
      },
      "source": [
        "print(expr.subs({N:1, y:2, x:3, b:4, m:5}))"
      ],
      "execution_count": 37,
      "outputs": [
        {
          "output_type": "stream",
          "name": "stdout",
          "text": [
            "289/2\n"
          ]
        }
      ]
    },
    {
      "cell_type": "markdown",
      "metadata": {
        "id": "sD_7ShUtEPWd"
      },
      "source": [
        "With sympy, it is possible to differentiate any expression with respect to an unknown. Consider the following equation again,\n",
        "\n",
        "$$ f = \\frac{1}{2N} (y - (mx + b))^2 $$\n",
        "\n",
        "The partial derivative with respect to $b$ will be,\n",
        "$$ \\frac{\\partial f}{\\partial b} = \\frac{1}{N}(b+mx-y)$$\n",
        "\n",
        "Let's calculate the partial derivative with sympy"
      ]
    },
    {
      "cell_type": "code",
      "metadata": {
        "id": "XQ_F06s27mso",
        "colab": {
          "base_uri": "https://localhost:8080/",
          "height": 52
        },
        "outputId": "308e503d-30ff-4e54-c5e8-1bbd7c06b4e1"
      },
      "source": [
        "diff = sp.diff(expr, b)  #differentiating with respect to b\n",
        "display(diff)  "
      ],
      "execution_count": 38,
      "outputs": [
        {
          "output_type": "display_data",
          "data": {
            "text/latex": "$\\displaystyle \\frac{2 b + 2 m x - 2 y}{2 N}$",
            "text/plain": [
              "(2*b + 2*m*x - 2*y)/(2*N)"
            ]
          },
          "metadata": {}
        }
      ]
    },
    {
      "cell_type": "markdown",
      "metadata": {
        "id": "oD_9aJfEHCG2"
      },
      "source": [
        "Using the simplify() function from sympy to get the final result"
      ]
    },
    {
      "cell_type": "code",
      "metadata": {
        "id": "KXdHPKCxHJVT",
        "colab": {
          "base_uri": "https://localhost:8080/",
          "height": 52
        },
        "outputId": "fdc4087f-257e-4121-85aa-da27c9c72e53"
      },
      "source": [
        "display(diff.simplify())"
      ],
      "execution_count": 39,
      "outputs": [
        {
          "output_type": "display_data",
          "data": {
            "text/latex": "$\\displaystyle \\frac{b + m x - y}{N}$",
            "text/plain": [
              "(b + m*x - y)/N"
            ]
          },
          "metadata": {}
        }
      ]
    },
    {
      "cell_type": "markdown",
      "metadata": {
        "id": "FeQ0n8noHOlO"
      },
      "source": [
        "Similarly, calculating the partial derivative with respect to m,\n",
        "\n",
        "$$ \\frac{\\partial f_1}{\\partial m} = \\frac{1}{N}(-x*(y-mx-b))$$\n",
        "\n"
      ]
    },
    {
      "cell_type": "code",
      "metadata": {
        "id": "9mbo881M9zxN",
        "colab": {
          "base_uri": "https://localhost:8080/",
          "height": 53
        },
        "outputId": "76568e59-1c56-4dff-c746-f9ee22ae7fdd"
      },
      "source": [
        "display(sp.diff(expr, m))"
      ],
      "execution_count": 40,
      "outputs": [
        {
          "output_type": "display_data",
          "data": {
            "text/latex": "$\\displaystyle - \\frac{x \\left(- b - m x + y\\right)}{N}$",
            "text/plain": [
              "-x*(-b - m*x + y)/N"
            ]
          },
          "metadata": {}
        }
      ]
    },
    {
      "cell_type": "markdown",
      "metadata": {
        "id": "Ib7p4kInJulS"
      },
      "source": [
        "This is everything we need to know about sympy for this lab. Let's jump into regression.\n",
        "\n",
        "In simple words, regression is a machine learning technique through which we try to fit an equation to a set of data points. The data points can be in N-dimensional space. For simplicity of visualization, we'll only work with 2d data points for now. Let's create a set of 50 data points $(X_i,Y_i)$ where $X$ is a value between 0 to 100 and $Y = .5X + 3 + \\delta$ where, $\\delta$ is a random value between -10 to 10"
      ]
    },
    {
      "cell_type": "code",
      "metadata": {
        "id": "rrG584tI4ljk"
      },
      "source": [
        "import numpy as np\n",
        "\n",
        "\n",
        "X = np.linspace(0, 100, 50)  #generating 50 X between 0 to 100 with uniform difference between each valie\n",
        "delta = np.random.uniform(-10, 10, X.size) # generating randon delta\n",
        "Y = 0.5*X + 3 + delta #calculating Y\n"
      ],
      "execution_count": 41,
      "outputs": []
    },
    {
      "cell_type": "markdown",
      "metadata": {
        "id": "rSCNvLY6LzMY"
      },
      "source": [
        "Let's plot the data!"
      ]
    },
    {
      "cell_type": "code",
      "metadata": {
        "id": "k30jMyt5LyCO",
        "colab": {
          "base_uri": "https://localhost:8080/",
          "height": 282
        },
        "outputId": "9c0367ae-3e56-463e-a92a-7f90673da164"
      },
      "source": [
        "import matplotlib.pyplot as plt\n",
        "plt.scatter(X, Y)"
      ],
      "execution_count": 42,
      "outputs": [
        {
          "output_type": "execute_result",
          "data": {
            "text/plain": [
              "<matplotlib.collections.PathCollection at 0x7ff209a34750>"
            ]
          },
          "metadata": {},
          "execution_count": 42
        },
        {
          "output_type": "display_data",
          "data": {
            "image/png": "[encoded data removed]",
            "text/plain": [
              "<Figure size 432x288 with 1 Axes>"
            ]
          },
          "metadata": {
            "needs_background": "light"
          }
        }
      ]
    },
    {
      "cell_type": "markdown",
      "metadata": {
        "id": "MkDEVJ0XMkAy"
      },
      "source": [
        "If we take a look at the plot. It becomes intuitively clear that a straight line can somewhat fit this set of data. the equation of a 2 dimensional straight line is,\n",
        "$$y = mx + b$$\n",
        "\n",
        "We know the values of $x$ and $y$, how do we calculate $m$ and $b$?\n",
        "\n",
        "The trick is to randomly choose values for $m$ and $b$ at ftrst and calculate $y$ for them. Obviously, this will produce some error. We calculate the amount of error using an error function which is,\n",
        "\n",
        "$$e(m,b) = \\frac{1}{2N}((Y - (mX + b))^2)$$\n",
        "or,\n",
        "$$e(m,b) = \\frac{1}{2N}((Y - y)^2)$$\n",
        "\n",
        "Where, Y is the actual value and $mX+b$ or $y$ is the predicted value with the randomly generated $m$ and $b$\n",
        "\n",
        "Once we generate the initial $m$ and $b$, then we need to find the correct $m$ and $b$ using an iteative way. In order to do that, we calculate the gradient of the error function. The gradients of the error function are the partial derivative of the error function with respect to all the unknowns. There are two unknowns in our error function, Namely $m$ and $b$. So, the partial derivatives are,\n",
        "\n",
        "$$ \\frac{\\partial e(m,b)}{\\partial b} = \\frac{1}{N}(b+mx-y)$$\n",
        "$$ \\frac{\\partial e(m,b)}{\\partial m} = \\frac{1}{N}(-x*(y-mx-b))$$\n",
        "\n",
        "Once we figure out the derivatives, we calculate the gradient using all the data points,\n",
        "\n",
        "$$gradient_b = \\frac{1}{N} \\sum_{n=1}^{N} (b+mx_n-y_n)$$\n",
        "$$gradient_m = \\frac{1}{N} \\sum_{n=1}^{N} (-x_n*(y_n-mx_n-b))$$\n",
        "\n",
        "Finally, we do,\n",
        "\n",
        "$$m = m - \\alpha * gradient_m$$\n",
        "$$b = b - \\alpha * gradient_b$$\n",
        "\n",
        "Here, $\\alpha$ is a learning rate that is used to control the speed of correction. Choosing a very big $\\alpha$ in gradient descent may cause divergent and choosing a very small $\\alpha$ will make the learning process really slow.\n",
        "\n",
        "We keep on repeating this process to find the optimal $m$ and $b$ and the error gets reduced. After sufficient amount of iterations, we should find the $m$ and $b$ that optimally fits the data points"
      ]
    },
    {
      "cell_type": "code",
      "metadata": {
        "id": "EYw2DgXR96aQ"
      },
      "source": [
        "\n",
        "def gradient_descent(b_val, m_val, x_val, y_val, learning_rate, num_iterations):\n",
        "\n",
        "\n",
        "    # Defining the error function\n",
        "    vars = sp.symbols('x y m b n')\n",
        "    x, y,m,b,n = vars\n",
        "    n_val = float(len(x_val))\n",
        "    error_function = ((1/(2*n)) * ((y - (m*x+b))**2))\n",
        "\n",
        "    #calculating the partial derivatives\n",
        "    error_function_b = sp.diff(error_function, b)\n",
        "    error_function_m = sp.diff(error_function, m)\n",
        "\n",
        "    # repeat for num_iterations\n",
        "    for j in range(num_iterations): \n",
        "        b_gradient = 0\n",
        "        m_gradient = 0\n",
        "        for i in range(0, len(x_val)):\n",
        "            b_gradient += error_function_b.subs({x:x_val[i], y: y_val[i], m:m_val, b:b_val, n:n_val})\n",
        "            m_gradient += error_function_m.subs({x:x_val[i], y: y_val[i], m:m_val, b:b_val, n:n_val})\n",
        "\n",
        "        #update the value for b and m    \n",
        "        b_val -= (learning_rate * b_gradient)\n",
        "        m_val -= (learning_rate * m_gradient)\n",
        "        \n",
        "    return [b_val, m_val]"
      ],
      "execution_count": 43,
      "outputs": []
    },
    {
      "cell_type": "markdown",
      "metadata": {
        "id": "MiUoasvKVCIU"
      },
      "source": [
        "Inntially when $m$ and $b$ is initialized. Obviously, the plotted line is nowhere near the data points"
      ]
    },
    {
      "cell_type": "code",
      "metadata": {
        "id": "H_0BOcLLB2I4",
        "colab": {
          "base_uri": "https://localhost:8080/",
          "height": 282
        },
        "outputId": "d43e568c-e7f0-4f07-c84e-40a08138e333"
      },
      "source": [
        "m_val = 0\n",
        "b_val = 0\n",
        "\n",
        "predictions = [(m_val * X[i]) + b_val for i in range(len(X))]\n",
        "plt.scatter(X, Y)\n",
        "plt.plot(X, predictions, color='r')"
      ],
      "execution_count": 44,
      "outputs": [
        {
          "output_type": "execute_result",
          "data": {
            "text/plain": [
              "[<matplotlib.lines.Line2D at 0x7ff2099a4490>]"
            ]
          },
          "metadata": {},
          "execution_count": 44
        },
        {
          "output_type": "display_data",
          "data": {
            "image/png": "[encoded data removed]",
            "text/plain": [
              "<Figure size 432x288 with 1 Axes>"
            ]
          },
          "metadata": {
            "needs_background": "light"
          }
        }
      ]
    },
    {
      "cell_type": "markdown",
      "metadata": {
        "id": "YwjXtJz-VRp9"
      },
      "source": [
        "After 2 iterations, better... but not enough!"
      ]
    },
    {
      "cell_type": "code",
      "metadata": {
        "id": "cJV5CEEvGNpt",
        "colab": {
          "base_uri": "https://localhost:8080/",
          "height": 282
        },
        "outputId": "b674a256-4237-4680-d1d3-83567961e29e"
      },
      "source": [
        "vals = gradient_descent(0, 0, X, Y, .0001, 2)\n",
        "m_val = vals[1]\n",
        "b_val = vals[0]\n",
        "predictions = [(m_val * X[i]) + b_val for i in range(len(X))]\n",
        "plt.scatter(X, Y)\n",
        "plt.plot(X, predictions, color='r')"
      ],
      "execution_count": 45,
      "outputs": [
        {
          "output_type": "execute_result",
          "data": {
            "text/plain": [
              "[<matplotlib.lines.Line2D at 0x7ff20992c610>]"
            ]
          },
          "metadata": {},
          "execution_count": 45
        },
        {
          "output_type": "display_data",
          "data": {
            "image/png": "[encoded data removed]",
            "text/plain": [
              "<Figure size 432x288 with 1 Axes>"
            ]
          },
          "metadata": {
            "needs_background": "light"
          }
        }
      ]
    },
    {
      "cell_type": "markdown",
      "metadata": {
        "id": "DiO1abxJVYtR"
      },
      "source": [
        "After, 5 iterations... much better!"
      ]
    },
    {
      "cell_type": "code",
      "metadata": {
        "id": "215rMrKIGzOX",
        "colab": {
          "base_uri": "https://localhost:8080/",
          "height": 282
        },
        "outputId": "faab06bd-1eea-4e20-88b7-ba8db5069b82"
      },
      "source": [
        "vals = gradient_descent(0, 0, X, Y, .0001, 10)\n",
        "m_val = vals[1]\n",
        "b_val = vals[0]\n",
        "predictions = [(m_val * X[i]) + b_val for i in range(len(X))]\n",
        "plt.scatter(X, Y)\n",
        "plt.plot(X, predictions, color='r')"
      ],
      "execution_count": 46,
      "outputs": [
        {
          "output_type": "execute_result",
          "data": {
            "text/plain": [
              "[<matplotlib.lines.Line2D at 0x7ff209a2a8d0>]"
            ]
          },
          "metadata": {},
          "execution_count": 46
        },
        {
          "output_type": "display_data",
          "data": {
            "image/png": "[encoded data removed]",
            "text/plain": [
              "<Figure size 432x288 with 1 Axes>"
            ]
          },
          "metadata": {
            "needs_background": "light"
          }
        }
      ]
    },
    {
      "cell_type": "markdown",
      "metadata": {
        "id": "CV4GBVtdWIgU"
      },
      "source": [
        "Now, let's consider the following pattern of data points"
      ]
    },
    {
      "cell_type": "code",
      "metadata": {
        "id": "o_eT8jn3YuNG",
        "colab": {
          "base_uri": "https://localhost:8080/",
          "height": 282
        },
        "outputId": "dc6a8b6d-db64-4af4-f900-125e295c58ed"
      },
      "source": [
        "import numpy as np\n",
        "import matplotlib.pyplot as plt\n",
        "\n",
        "X = np.linspace(0, 100, 50)\n",
        "delta = np.random.uniform(-10000, 10000, X.size)\n",
        "Y = 10*X**2 + 0.5*X + 3 + delta\n",
        "\n",
        "plt.scatter(X, Y)"
      ],
      "execution_count": 47,
      "outputs": [
        {
          "output_type": "execute_result",
          "data": {
            "text/plain": [
              "<matplotlib.collections.PathCollection at 0x7ff2099ce890>"
            ]
          },
          "metadata": {},
          "execution_count": 47
        },
        {
          "output_type": "display_data",
          "data": {
            "image/png": "[encoded data removed]",
            "text/plain": [
              "<Figure size 432x288 with 1 Axes>"
            ]
          },
          "metadata": {
            "needs_background": "light"
          }
        }
      ]
    },
    {
      "cell_type": "markdown",
      "metadata": {
        "id": "H-PZcVzXWeyr"
      },
      "source": [
        "We can try to fit these data points with a linear function... but due to the nature of the pattern, a straight line will never fit this data extremely well."
      ]
    },
    {
      "cell_type": "code",
      "metadata": {
        "id": "HSfPGjBiV_C2",
        "colab": {
          "base_uri": "https://localhost:8080/",
          "height": 282
        },
        "outputId": "cf8b59e4-eb72-4077-ca50-914e7edf1bb1"
      },
      "source": [
        "vals = gradient_descent(-5, 5, X, Y, .0001, 20)\n",
        "m_val = vals[1]\n",
        "b_val = vals[0]\n",
        "\n",
        "predictions = [(m_val * X[i]) + b_val for i in range(len(X))]\n",
        "plt.scatter(X, Y)\n",
        "plt.plot(X, predictions, color='r')"
      ],
      "execution_count": 48,
      "outputs": [
        {
          "output_type": "execute_result",
          "data": {
            "text/plain": [
              "[<matplotlib.lines.Line2D at 0x7ff20982cc90>]"
            ]
          },
          "metadata": {},
          "execution_count": 48
        },
        {
          "output_type": "display_data",
          "data": {
            "image/png": "[encoded data removed]",
            "text/plain": [
              "<Figure size 432x288 with 1 Axes>"
            ]
          },
          "metadata": {
            "needs_background": "light"
          }
        }
      ]
    },
    {
      "cell_type": "markdown",
      "metadata": {
        "id": "EVZZP75PW9vO"
      },
      "source": [
        "If we take a look at the plot. It should become clear that a degree-2 polynomial should fit the data well. The general equation of a degree-2 polynomial would be,\n",
        "$$ax^2 + mx + b$$\n",
        "As we need to calculate 3 varables here namely $a$, $m$ and $b$, there would be 3 partial derivatives and the gradient descend will be a little more complicated than before. "
      ]
    },
    {
      "cell_type": "code",
      "metadata": {
        "id": "oUm9aZqaVk51"
      },
      "source": [
        "def gradient_descent_poly(b_val, m_val, a_val, x_val, y_val, learning_rate, num_iterations):\n",
        "\n",
        "    # Define x and y as mathematical symbols\n",
        "    vars = sp.symbols('x y m b n a')\n",
        "    x, y,m,b,n, a = vars\n",
        "    n_val = float(len(x_val))\n",
        "    error_function = ((1/(2*n)) * ((y - (a*(x**2) + m*x+b))**2))\n",
        "    error_fucntion_b = sp.diff(error_function, b)\n",
        "    error_function_m = sp.diff(error_function, m)\n",
        "    error_function_a = sp.diff(error_function, a)\n",
        "    for j in range(num_iterations): # repeat for num_iterations\n",
        "        b_gradient = 0\n",
        "        m_gradient = 0\n",
        "        a_gradient = 0\n",
        "        for i in range(0, len(x_val)):\n",
        "            #print(b)\n",
        "            b_gradient += error_fucntion_b.subs({x:x_val[i], y: y_val[i], m:m_val, a: a_val, b:b_val, n:n_val})\n",
        "            m_gradient += error_function_m.subs({x:x_val[i], y: y_val[i], m:m_val, a: a_val, b:b_val, n:n_val})\n",
        "            a_gradient += error_function_a.subs({x:x_val[i], y: y_val[i], m:m_val, a: a_val, b:b_val, n:n_val})\n",
        "            \n",
        "        b_val -= (learning_rate * b_gradient)\n",
        "        m_val -= (learning_rate * m_gradient)\n",
        "        a_val -= (learning_rate * a_gradient)\n",
        "        \n",
        "    return [b_val, m_val, a_val]"
      ],
      "execution_count": 49,
      "outputs": []
    },
    {
      "cell_type": "markdown",
      "metadata": {
        "id": "IGequc1uXlIQ"
      },
      "source": [
        "Now if we calculate, we see that a degree-2 polynomial fits the data much better. Polynomial regression works well in places where linear regression do not perform well"
      ]
    },
    {
      "cell_type": "code",
      "metadata": {
        "id": "i-XzDN-jWesi",
        "colab": {
          "base_uri": "https://localhost:8080/",
          "height": 282
        },
        "outputId": "e5aec682-9bc9-4a53-af05-2e0a1a33b147"
      },
      "source": [
        "vals = gradient_descent_poly(-5, -5, -5, X, Y, .00000001, 20)\n",
        "m_val = vals[1]\n",
        "b_val = vals[0]\n",
        "a_val = vals[2]\n",
        "predictions = [(a_val * X[i]*X[i]) + (m_val * X[i]) + b_val for i in range(len(X))]\n",
        "plt.scatter(X, Y)\n",
        "plt.plot(X, predictions, color='r')"
      ],
      "execution_count": 50,
      "outputs": [
        {
          "output_type": "execute_result",
          "data": {
            "text/plain": [
              "[<matplotlib.lines.Line2D at 0x7ff209763610>]"
            ]
          },
          "metadata": {},
          "execution_count": 50
        },
        {
          "output_type": "display_data",
          "data": {
            "image/png": "[encoded data removed]",
            "text/plain": [
              "<Figure size 432x288 with 1 Axes>"
            ]
          },
          "metadata": {
            "needs_background": "light"
          }
        }
      ]
    },
    {
      "cell_type": "markdown",
      "metadata": {
        "id": "wr6LUPsaX5MK"
      },
      "source": [
        "We can also use regression in multidimensinal space. Let's consider 3d for now"
      ]
    },
    {
      "cell_type": "code",
      "metadata": {
        "id": "YQE8cQtSpTmK",
        "colab": {
          "base_uri": "https://localhost:8080/",
          "height": 248
        },
        "outputId": "c38cf37c-c098-4c30-a9da-5d80dfda095f"
      },
      "source": [
        "from mpl_toolkits import mplot3d\n",
        "import numpy as np\n",
        "import matplotlib.pyplot as plt\n",
        "fig = plt.figure()\n",
        "ax = plt.axes(projection='3d')\n",
        "X = np.linspace(-20, 20, 30)\n",
        "Y = np.linspace(-20, 20, 30)\n",
        "delta = np.random.uniform(-100000, 100000, X.size)\n",
        "Z = 5* X**3 + 18*Y**2 + 2*Y + 50* Y**3 + 4*X +30 + delta\n",
        "ax.scatter3D(X, Y, Z, cmap='Greens');"
      ],
      "execution_count": 20,
      "outputs": [
        {
          "output_type": "display_data",
          "data": {
            "image/png": "[encoded data removed]",
            "text/plain": [
              "<Figure size 432x288 with 1 Axes>"
            ]
          },
          "metadata": {
            "needs_background": "light"
          }
        }
      ]
    },
    {
      "cell_type": "code",
      "metadata": {
        "id": "309bj71DpXj9"
      },
      "source": [
        "def gradient_descent_poly_degree_three(b_val, m_val, a_val, c_val, d_val, e_val, x_val, y_val, z_val, learning_rate, num_iterations):\n",
        "\n",
        "    # Define x and y as mathematical symbols\n",
        "    vars = sp.symbols('x y z m b n a c d e')\n",
        "    x, y,z , m,b,n, a, c, d, e = vars\n",
        "    n_val = float(len(x_val))\n",
        "    error_function = ((1/(2*n)) * ((z - (a*x**3 + c*y**2 + d*x + e*y**3 + m*x+b))**2))\n",
        "    err_func_b  = sp.diff(error_function, b)\n",
        "    err_func_m  = sp.diff(error_function, m)\n",
        "    err_func_a  = sp.diff(error_function, a)\n",
        "    err_func_c  = sp.diff(error_function, c)\n",
        "    err_func_d  = sp.diff(error_function, d)\n",
        "    err_func_e  = sp.diff(error_function, e)\n",
        "    for j in range(num_iterations): # repeat for num_iterations\n",
        "        b_gradient = 0\n",
        "        m_gradient = 0\n",
        "        a_gradient = 0\n",
        "        c_gradient = 0\n",
        "        d_gradient = 0\n",
        "        e_gradient = 0\n",
        "        for i in range(0, len(x_val)):\n",
        "            #print(b)\n",
        "            b_gradient += err_func_b.subs({x:x_val[i], y: y_val[i], z:z_val[i], m:m_val, a: a_val, b:b_val, n:n_val, c:c_val, d:d_val, e:e_val})\n",
        "            m_gradient += err_func_m.subs({x:x_val[i], y: y_val[i], z:z_val[i], m:m_val, a: a_val, b:b_val, n:n_val, c:c_val, d:d_val, e:e_val})\n",
        "            a_gradient += err_func_a.subs({x:x_val[i], y: y_val[i], z:z_val[i], m:m_val, a: a_val, b:b_val, n:n_val, c:c_val, d:d_val, e:e_val})\n",
        "            c_gradient += err_func_c.subs({x:x_val[i], y: y_val[i], z:z_val[i], m:m_val, a: a_val, b:b_val, n:n_val, c:c_val, d:d_val, e:e_val})\n",
        "            d_gradient += err_func_d.subs({x:x_val[i], y: y_val[i], z:z_val[i], m:m_val, a: a_val, b:b_val, n:n_val, c:c_val, d:d_val, e:e_val})\n",
        "            e_gradient += err_func_e.subs({x:x_val[i], y: y_val[i], z:z_val[i], m:m_val, a: a_val, b:b_val, n:n_val, c:c_val, d:d_val, e:e_val})\n",
        "            \n",
        "        b_val -= (learning_rate * b_gradient)\n",
        "        m_val -= (learning_rate * m_gradient)\n",
        "        a_val -= (learning_rate * a_gradient)\n",
        "        c_val -= (learning_rate * c_gradient)\n",
        "        d_val -= (learning_rate * d_gradient)\n",
        "        e_val -= (learning_rate * e_gradient)\n",
        "        \n",
        "    return [b_val, m_val, a_val, c_val, d_val, e_val]"
      ],
      "execution_count": 21,
      "outputs": []
    },
    {
      "cell_type": "markdown",
      "metadata": {
        "id": "qrgaHAFsYliu"
      },
      "source": [
        "Take a look at the regression below, works fairely well.\n",
        "\n",
        "We can do it even at a higher dimension. But for obvious reasons, we cannot visualize over 3d."
      ]
    },
    {
      "cell_type": "code",
      "metadata": {
        "id": "-bRXBIEjtr8y",
        "colab": {
          "base_uri": "https://localhost:8080/",
          "height": 265
        },
        "outputId": "80b3cb83-02af-48df-8b1e-b52321b0d050"
      },
      "source": [
        "vals = gradient_descent_poly_degree_three(0, 0, 0, 0,0,0, X, Y, Z, .00000001, 10)\n",
        "m_val = vals[1]\n",
        "b_val = vals[0]\n",
        "a_val = vals[2]\n",
        "c_val = vals[3]\n",
        "d_val = vals[4]\n",
        "e_val = vals[5]\n",
        "\n",
        "predictions = [a_val * X[i]**3 + c_val * Y[i]**2 + d_val * Y[i] + e_val * Y[i]**3 + m_val * X[i] + b_val for i in range(len(X))]\n",
        "ax = plt.axes(projection='3d')\n",
        "\n",
        "ax.scatter3D(X, Y,Z)\n",
        "ax.plot3D(X, Y, predictions, color='r')"
      ],
      "execution_count": 22,
      "outputs": [
        {
          "output_type": "execute_result",
          "data": {
            "text/plain": [
              "[<mpl_toolkits.mplot3d.art3d.Line3D at 0x7ff209d32450>]"
            ]
          },
          "metadata": {},
          "execution_count": 22
        },
        {
          "output_type": "display_data",
          "data": {
            "image/png": "[encoded data removed]",
            "text/plain": [
              "<Figure size 432x288 with 1 Axes>"
            ]
          },
          "metadata": {
            "needs_background": "light"
          }
        }
      ]
    },
    {
      "cell_type": "markdown",
      "metadata": {
        "id": "7TZILD57Y6PS"
      },
      "source": [
        "Now that we are done with regression, what about classification task? In a binary classification task, all the points are either labelled as 0s or 1s. Let's consider the follwing points  where $Y = 0$ for $x<50$ and $Y = 1$ for $X>50$"
      ]
    },
    {
      "cell_type": "code",
      "metadata": {
        "id": "aEnVh3SI2VXd",
        "colab": {
          "base_uri": "https://localhost:8080/",
          "height": 282
        },
        "outputId": "d14d5498-62aa-4ca2-ea0b-50bd0059203b"
      },
      "source": [
        "X = np.linspace(0, 100, 50)\n",
        "Y = np.zeros(X.size)\n",
        "Y[25:50] = 1\n",
        "plt.scatter(X, Y)"
      ],
      "execution_count": 23,
      "outputs": [
        {
          "output_type": "execute_result",
          "data": {
            "text/plain": [
              "<matplotlib.collections.PathCollection at 0x7ff209dc0050>"
            ]
          },
          "metadata": {},
          "execution_count": 23
        },
        {
          "output_type": "display_data",
          "data": {
            "image/png": "[encoded data removed]",
            "text/plain": [
              "<Figure size 432x288 with 1 Axes>"
            ]
          },
          "metadata": {
            "needs_background": "light"
          }
        }
      ]
    },
    {
      "cell_type": "markdown",
      "metadata": {
        "id": "uyhH5ib5Z0Z1"
      },
      "source": [
        "Obviously, we need a very specifically shaped line to fit this. In order to convert out linear line to this specific shape, we use a function called sigmoid function. The sigmoid function is,\n",
        "$$ \\sigma(z) = \\frac{1}{1+ e^{-z}}$$\n",
        "Where $z = mx + b$, or, our linear equation.\n",
        "\n",
        "The process of gradient descent in logistic regression is almost the same as the linear regression. However, in the logistic regression, the cost function looks a little different. We use an entrpy based cost function in logistic regression\n",
        "\n",
        "$$e(m,b) = -\\frac{1}{n} y \\log(\\sigma(z)) + (1-y) \\log(1-\\sigma(z))$$\n",
        "\n",
        "If we break this cost function down, we get,\n",
        "\n",
        "$$e(m,b) = -\\frac{1}{n} y \\log(\\frac{1}{1+ e^{-(mx+b)}}) + (1-y) \\log(1-\\frac{1}{1+ e^{-(mx+b)}})$$\n",
        "\n",
        "The rest of the procedure is exactly the same."
      ]
    },
    {
      "cell_type": "code",
      "metadata": {
        "id": "fq2rfhfP6MgL"
      },
      "source": [
        "def gradient_descent_logistic(b_val, m_val, x_val, y_val, learning_rate, num_iterations):\n",
        "\n",
        "\n",
        "    # Defining the error function or the cost function\n",
        "    vars = sp.symbols('x y m b n')\n",
        "    x, y,m,b,n = vars\n",
        "    n_val = float(len(x_val))\n",
        "    error_function = -(1/(n)) * ((y * sp.log(1/ (1+(sp.exp(-(m*x+b)))))) + ((1-y) * sp.log(1 - (1/ (1+(sp.exp(-(m*x+b))))))))\n",
        "\n",
        "    #calculatin partial derivative\n",
        "    error_function_b = sp.diff(error_function, b)\n",
        "    error_function_m = sp.diff(error_function, m)\n",
        "    for j in range(num_iterations): # repeat for num_iterations\n",
        "        b_gradient = 0\n",
        "        m_gradient = 0\n",
        "        for i in range(0, len(x_val)):\n",
        "            #print(b)\n",
        "            b_gradient += error_function_b.evalf(subs = {x:x_val[i], y:y_val[i], m:m_val, b:b_val,n:n_val})\n",
        "            m_gradient += error_function_m.evalf(subs = {x:x_val[i], y:y_val[i], m:m_val, b:b_val,n:n_val})\n",
        "\n",
        "        #correcting b and m in an ierative way    \n",
        "        b_val -= (learning_rate * b_gradient)\n",
        "        m_val -= (learning_rate * m_gradient)\n",
        "        \n",
        "        \n",
        "    return [b_val, m_val]"
      ],
      "execution_count": 24,
      "outputs": []
    },
    {
      "cell_type": "markdown",
      "metadata": {
        "id": "zSo5V0E7dyFf"
      },
      "source": [
        "Let's see how this fits our data"
      ]
    },
    {
      "cell_type": "code",
      "metadata": {
        "id": "W4zjQIozKRr9",
        "colab": {
          "base_uri": "https://localhost:8080/",
          "height": 298
        },
        "outputId": "0b9938d8-f27e-4d41-9ba3-8bb1d52fcac8"
      },
      "source": [
        "import math\n",
        "vals = gradient_descent_logistic(-10, -5, X, Y, .01, 20)\n",
        "m_val = vals[1]\n",
        "b_val = vals[0]\n",
        "print(m_val, b_val)\n",
        "predictions = [1/(1+math.exp(-((m_val * X[i]) + b_val))) for i in range(len(X))]\n",
        "plt.scatter(X, Y)\n",
        "plt.plot(X, predictions, color='r')"
      ],
      "execution_count": 25,
      "outputs": [
        {
          "output_type": "stream",
          "name": "stdout",
          "text": [
            "0.201941947973358 -9.93236023376079\n"
          ]
        },
        {
          "output_type": "execute_result",
          "data": {
            "text/plain": [
              "[<matplotlib.lines.Line2D at 0x7ff209c35950>]"
            ]
          },
          "metadata": {},
          "execution_count": 25
        },
        {
          "output_type": "display_data",
          "data": {
            "image/png": "[encoded data removed]",
            "text/plain": [
              "<Figure size 432x288 with 1 Axes>"
            ]
          },
          "metadata": {
            "needs_background": "light"
          }
        }
      ]
    },
    {
      "cell_type": "markdown",
      "metadata": {
        "id": "TSEbEsLGetgt"
      },
      "source": [
        "Our implementation of regression is slow and a little clunky. However, it should help us to understand the underlying concept of regression in machine learning.\n",
        "\n",
        "With the sklearn library of python, we can implement regression with just few lines of code. Implementation with sklearn will also be a lot faster since their internal code is heavily optimized.\n",
        "\n",
        "First, let's load a dataset using pandas and see the dataset."
      ]
    },
    {
      "cell_type": "code",
      "metadata": {
        "id": "nnrNnxJrKdHa",
        "colab": {
          "base_uri": "https://localhost:8080/",
          "height": 204
        },
        "outputId": "6cf0fa9f-2bdd-418a-9f66-08d886383180"
      },
      "source": [
        "import pandas as pd\n",
        "dataset = pd.read_csv('/content/sample_data/salaryData.csv')\n",
        "dataset.head()"
      ],
      "execution_count": null,
      "outputs": [
        {
          "output_type": "execute_result",
          "data": {
            "text/html": [
              "<div>\n",
              "<style scoped>\n",
              "    .dataframe tbody tr th:only-of-type {\n",
              "        vertical-align: middle;\n",
              "    }\n",
              "\n",
              "    .dataframe tbody tr th {\n",
              "        vertical-align: top;\n",
              "    }\n",
              "\n",
              "    .dataframe thead th {\n",
              "        text-align: right;\n",
              "    }\n",
              "</style>\n",
              "<table border=\"1\" class=\"dataframe\">\n",
              "  <thead>\n",
              "    <tr style=\"text-align: right;\">\n",
              "      <th></th>\n",
              "      <th>YearsExperience</th>\n",
              "      <th>Salary</th>\n",
              "    </tr>\n",
              "  </thead>\n",
              "  <tbody>\n",
              "    <tr>\n",
              "      <th>0</th>\n",
              "      <td>1.1</td>\n",
              "      <td>39343.0</td>\n",
              "    </tr>\n",
              "    <tr>\n",
              "      <th>1</th>\n",
              "      <td>1.3</td>\n",
              "      <td>46205.0</td>\n",
              "    </tr>\n",
              "    <tr>\n",
              "      <th>2</th>\n",
              "      <td>1.5</td>\n",
              "      <td>37731.0</td>\n",
              "    </tr>\n",
              "    <tr>\n",
              "      <th>3</th>\n",
              "      <td>2.0</td>\n",
              "      <td>43525.0</td>\n",
              "    </tr>\n",
              "    <tr>\n",
              "      <th>4</th>\n",
              "      <td>2.2</td>\n",
              "      <td>39891.0</td>\n",
              "    </tr>\n",
              "  </tbody>\n",
              "</table>\n",
              "</div>"
            ],
            "text/plain": [
              "   YearsExperience   Salary\n",
              "0              1.1  39343.0\n",
              "1              1.3  46205.0\n",
              "2              1.5  37731.0\n",
              "3              2.0  43525.0\n",
              "4              2.2  39891.0"
            ]
          },
          "metadata": {
            "tags": []
          },
          "execution_count": 72
        }
      ]
    },
    {
      "cell_type": "markdown",
      "metadata": {
        "id": "uusV_acutH38"
      },
      "source": [
        "Seperating $x$ and $y$ (features and labels)"
      ]
    },
    {
      "cell_type": "code",
      "metadata": {
        "id": "kf3iHNM-k2ir"
      },
      "source": [
        "x = dataset.iloc[:, :-1].values\n",
        "y = dataset.iloc[:, 1].values"
      ],
      "execution_count": null,
      "outputs": []
    },
    {
      "cell_type": "markdown",
      "metadata": {
        "id": "C6Zvu510tXYH"
      },
      "source": [
        "Importing linear regression from sklearn library and fitting the data."
      ]
    },
    {
      "cell_type": "code",
      "metadata": {
        "id": "RIOle1hek3Jd",
        "colab": {
          "base_uri": "https://localhost:8080/",
          "height": 68
        },
        "outputId": "d1ffae75-90e8-4d8f-b0e8-c1dd8255d4d2"
      },
      "source": [
        "from sklearn.model_selection import train_test_split\n",
        "xTrain, xTest, yTrain, yTest = train_test_split(x, y, test_size = .3, random_state = 0)\n",
        "from sklearn.linear_model import LinearRegression\n",
        "clf = LinearRegression()\n",
        "clf.fit(xTrain, yTrain)\n",
        "yPrediction = clf.predict(xTest)\n",
        "yPrediction"
      ],
      "execution_count": null,
      "outputs": [
        {
          "output_type": "execute_result",
          "data": {
            "text/plain": [
              "array([ 40817.78327049, 123188.08258899,  65154.46261459,  63282.41035735,\n",
              "       115699.87356004, 108211.66453108, 116635.89968866,  64218.43648597,\n",
              "        76386.77615802])"
            ]
          },
          "metadata": {
            "tags": []
          },
          "execution_count": 74
        }
      ]
    },
    {
      "cell_type": "markdown",
      "metadata": {
        "id": "Vodx9ZEetmaj"
      },
      "source": [
        "Plotting the fitted line"
      ]
    },
    {
      "cell_type": "code",
      "metadata": {
        "id": "aGvxEA4zof3s",
        "colab": {
          "base_uri": "https://localhost:8080/",
          "height": 295
        },
        "outputId": "83be3b49-1b66-4739-fb77-a047f2ed8b43"
      },
      "source": [
        "plt.scatter(xTrain, yTrain, color = 'red')\n",
        "plt.plot(xTrain, clf.predict(xTrain), color = 'blue')\n",
        "plt.title('Salary vs Experience (Training set)')\n",
        "plt.xlabel('Years of Experience')\n",
        "plt.ylabel('Salary')\n",
        "plt.show()"
      ],
      "execution_count": null,
      "outputs": [
        {
          "output_type": "display_data",
          "data": {
            "image/png": "[encoded data removed]",
            "text/plain": [
              "<Figure size 432x288 with 1 Axes>"
            ]
          },
          "metadata": {
            "tags": []
          }
        }
      ]
    },
    {
      "cell_type": "code",
      "metadata": {
        "id": "ooxzz0XqpGyl"
      },
      "source": [
        "# Import the dependencies for logistic regression\n",
        "import matplotlib.pyplot as plt\n",
        "import seaborn as sns\n",
        "from sklearn.linear_model import LogisticRegression\n",
        "from sklearn.metrics import classification_report\n",
        "from sklearn.metrics import accuracy_score\n",
        "from sklearn.model_selection import train_test_split"
      ],
      "execution_count": null,
      "outputs": []
    },
    {
      "cell_type": "markdown",
      "metadata": {
        "id": "Eo5_ybxctxpS"
      },
      "source": [
        "Loading iris dataset"
      ]
    },
    {
      "cell_type": "code",
      "metadata": {
        "id": "KOq07nM1sNLB",
        "colab": {
          "base_uri": "https://localhost:8080/",
          "height": 204
        },
        "outputId": "9c2f4d5f-8a98-494a-e793-d9482516d860"
      },
      "source": [
        "#Load the data set\n",
        "data = sns.load_dataset(\"iris\")\n",
        "data.head()"
      ],
      "execution_count": null,
      "outputs": [
        {
          "output_type": "execute_result",
          "data": {
            "text/html": [
              "<div>\n",
              "<style scoped>\n",
              "    .dataframe tbody tr th:only-of-type {\n",
              "        vertical-align: middle;\n",
              "    }\n",
              "\n",
              "    .dataframe tbody tr th {\n",
              "        vertical-align: top;\n",
              "    }\n",
              "\n",
              "    .dataframe thead th {\n",
              "        text-align: right;\n",
              "    }\n",
              "</style>\n",
              "<table border=\"1\" class=\"dataframe\">\n",
              "  <thead>\n",
              "    <tr style=\"text-align: right;\">\n",
              "      <th></th>\n",
              "      <th>sepal_length</th>\n",
              "      <th>sepal_width</th>\n",
              "      <th>petal_length</th>\n",
              "      <th>petal_width</th>\n",
              "      <th>species</th>\n",
              "    </tr>\n",
              "  </thead>\n",
              "  <tbody>\n",
              "    <tr>\n",
              "      <th>0</th>\n",
              "      <td>5.1</td>\n",
              "      <td>3.5</td>\n",
              "      <td>1.4</td>\n",
              "      <td>0.2</td>\n",
              "      <td>setosa</td>\n",
              "    </tr>\n",
              "    <tr>\n",
              "      <th>1</th>\n",
              "      <td>4.9</td>\n",
              "      <td>3.0</td>\n",
              "      <td>1.4</td>\n",
              "      <td>0.2</td>\n",
              "      <td>setosa</td>\n",
              "    </tr>\n",
              "    <tr>\n",
              "      <th>2</th>\n",
              "      <td>4.7</td>\n",
              "      <td>3.2</td>\n",
              "      <td>1.3</td>\n",
              "      <td>0.2</td>\n",
              "      <td>setosa</td>\n",
              "    </tr>\n",
              "    <tr>\n",
              "      <th>3</th>\n",
              "      <td>4.6</td>\n",
              "      <td>3.1</td>\n",
              "      <td>1.5</td>\n",
              "      <td>0.2</td>\n",
              "      <td>setosa</td>\n",
              "    </tr>\n",
              "    <tr>\n",
              "      <th>4</th>\n",
              "      <td>5.0</td>\n",
              "      <td>3.6</td>\n",
              "      <td>1.4</td>\n",
              "      <td>0.2</td>\n",
              "      <td>setosa</td>\n",
              "    </tr>\n",
              "  </tbody>\n",
              "</table>\n",
              "</div>"
            ],
            "text/plain": [
              "   sepal_length  sepal_width  petal_length  petal_width species\n",
              "0           5.1          3.5           1.4          0.2  setosa\n",
              "1           4.9          3.0           1.4          0.2  setosa\n",
              "2           4.7          3.2           1.3          0.2  setosa\n",
              "3           4.6          3.1           1.5          0.2  setosa\n",
              "4           5.0          3.6           1.4          0.2  setosa"
            ]
          },
          "metadata": {
            "tags": []
          },
          "execution_count": 77
        }
      ]
    },
    {
      "cell_type": "markdown",
      "metadata": {
        "id": "rZc8WOsLt2QY"
      },
      "source": [
        "Seperating features and labes"
      ]
    },
    {
      "cell_type": "code",
      "metadata": {
        "id": "FU-q8T1_sS1u"
      },
      "source": [
        "#Prepare the training set\n",
        "\n",
        "# X = feature values, all the columns except the last column\n",
        "X = data.iloc[:, :-1]\n",
        "\n",
        "# y = target values, last column of the data frame\n",
        "y = data.iloc[:, -1]"
      ],
      "execution_count": null,
      "outputs": []
    },
    {
      "cell_type": "code",
      "metadata": {
        "id": "p-NoSxepsV1s"
      },
      "source": [
        "#Split the data into 80% training and 20% testing\n",
        "x_train, x_test, y_train, y_test = train_test_split(X, y, test_size=0.2, random_state=42)"
      ],
      "execution_count": null,
      "outputs": []
    },
    {
      "cell_type": "code",
      "metadata": {
        "id": "yLsrlXyNsbEa",
        "colab": {
          "base_uri": "https://localhost:8080/",
          "height": 238
        },
        "outputId": "ecf54e4f-2e75-4c02-f9f8-dbe82237379d"
      },
      "source": [
        "#Train the model\n",
        "model = LogisticRegression()\n",
        "model.fit(x_train, y_train) #Training the model\n",
        "predictions = model.predict(x_test)\n",
        "print(predictions)# printing predictions"
      ],
      "execution_count": null,
      "outputs": [
        {
          "output_type": "stream",
          "text": [
            "['versicolor' 'setosa' 'virginica' 'versicolor' 'versicolor' 'setosa'\n",
            " 'versicolor' 'virginica' 'versicolor' 'versicolor' 'virginica' 'setosa'\n",
            " 'setosa' 'setosa' 'setosa' 'versicolor' 'virginica' 'versicolor'\n",
            " 'versicolor' 'virginica' 'setosa' 'virginica' 'setosa' 'virginica'\n",
            " 'virginica' 'virginica' 'virginica' 'virginica' 'setosa' 'setosa']\n"
          ],
          "name": "stdout"
        },
        {
          "output_type": "stream",
          "text": [
            "/usr/local/lib/python3.6/dist-packages/sklearn/linear_model/_logistic.py:940: ConvergenceWarning: lbfgs failed to converge (status=1):\n",
            "STOP: TOTAL NO. of ITERATIONS REACHED LIMIT.\n",
            "\n",
            "Increase the number of iterations (max_iter) or scale the data as shown in:\n",
            "    https://scikit-learn.org/stable/modules/preprocessing.html\n",
            "Please also refer to the documentation for alternative solver options:\n",
            "    https://scikit-learn.org/stable/modules/linear_model.html#logistic-regression\n",
            "  extra_warning_msg=_LOGISTIC_SOLVER_CONVERGENCE_MSG)\n"
          ],
          "name": "stderr"
        }
      ]
    },
    {
      "cell_type": "code",
      "metadata": {
        "id": "bTWmoWA2sh6I",
        "colab": {
          "base_uri": "https://localhost:8080/",
          "height": 34
        },
        "outputId": "765a5d83-4c80-40a1-cb8b-9c089f2ee2ef"
      },
      "source": [
        "print( accuracy_score(y_test, predictions))"
      ],
      "execution_count": null,
      "outputs": [
        {
          "output_type": "stream",
          "text": [
            "1.0\n"
          ],
          "name": "stdout"
        }
      ]
    }
  ]
}