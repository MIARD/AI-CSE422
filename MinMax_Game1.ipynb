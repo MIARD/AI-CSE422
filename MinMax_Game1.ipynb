{
  "nbformat": 4,
  "nbformat_minor": 0,
  "metadata": {
    "colab": {
      "name": "MinMax-Game1.ipynb",
      "provenance": [],
      "collapsed_sections": [],
      "authorship_tag": "ABX9TyOYYbQgRgmsBXzhk0fCpmIP",
      "include_colab_link": true
    },
    "kernelspec": {
      "name": "python3",
      "display_name": "Python 3"
    },
    "language_info": {
      "name": "python"
    }
  },
  "cells": [
    {
      "cell_type": "markdown",
      "metadata": {
        "id": "view-in-github",
        "colab_type": "text"
      },
      "source": [
        "<a href=\"https://colab.research.google.com/github/MIARD/AI-CSE422/blob/main/MinMax_Game1.ipynb\" target=\"_parent\"><img src=\"https://colab.research.google.com/assets/colab-badge.svg\" alt=\"Open In Colab\"/></a>"
      ]
    },
    {
      "cell_type": "code",
      "metadata": {
        "id": "Da3iyrOCA7OO"
      },
      "source": [
        "def MovesFromZero(to, graph):\n",
        "    _from = 0\n",
        "    positions = len(graph)\n",
        "    queue = []\n",
        "    visited = [False]*positions\n",
        "    moves = [-1]*positions\n",
        "\n",
        "    queue.append(_from)\n",
        "    moves[_from]=0\n",
        "    visited[_from] = True\n",
        "    while len(queue):\n",
        "        cur_node = queue.pop(0)\n",
        "        for adjacent in graph[cur_node]:\n",
        "            if not visited[adjacent]:\n",
        "                visited[adjacent] = True\n",
        "                queue.append(adjacent)\n",
        "                moves[adjacent] = moves[cur_node] + 1\n",
        "                if adjacent == to:\n",
        "                    break\n",
        "    return moves[to]"
      ],
      "execution_count": null,
      "outputs": []
    },
    {
      "cell_type": "code",
      "metadata": {
        "colab": {
          "base_uri": "https://localhost:8080/"
        },
        "id": "IoZvR4thBXwo",
        "outputId": "116411ba-1192-4815-b002-87338202516b"
      },
      "source": [
        "if __name__ == '__main__':\n",
        "    try:\n",
        "        file = open(\"/content/input1.txt\", 'r')\n",
        "        fixed_positions = int(file.readline())\n",
        "        no_of_con = int(file.readline())\n",
        "        graph = {edges:[] for edges in range(0,fixed_positions)}\n",
        "        for connection in range(0, no_of_con):\n",
        "            cur_con = file.readline().strip().split()\n",
        "            graph[int(cur_con[0])].append(int(cur_con[1]))\n",
        "            graph[int(cur_con[1])].append(int(cur_con[0]))\n",
        "        Lina_pos = int(file.readline())\n",
        "\n",
        "    except Exception as error:\n",
        "        print(\"Error occured while taking input. \", error)\n",
        "    print(MovesFromZero(Lina_pos,graph))"
      ],
      "execution_count": null,
      "outputs": [
        {
          "output_type": "stream",
          "text": [
            "2\n"
          ],
          "name": "stdout"
        }
      ]
    },
    {
      "cell_type": "code",
      "metadata": {
        "id": "OOSthUhPRvpv"
      },
      "source": [
        "def NumOfMoves(_from, to, graph):\n",
        "    positions = len(graph)\n",
        "    queue = []\n",
        "    visited = [False]*positions\n",
        "    moves = [-1]*positions\n",
        "\n",
        "    queue.append(_from)\n",
        "    moves[_from]=0\n",
        "    visited[_from] = True\n",
        "    while len(queue):\n",
        "        cur_node = queue.pop(0)\n",
        "        for adjacent in graph[cur_node]:\n",
        "            if not visited[adjacent]:\n",
        "                visited[adjacent] = True\n",
        "                queue.append(adjacent)\n",
        "                moves[adjacent] = moves[cur_node] + 1\n",
        "                if adjacent in to:\n",
        "                    to.remove(adjacent)\n",
        "                if not len(to):\n",
        "                    break\n",
        "    return moves"
      ],
      "execution_count": null,
      "outputs": []
    },
    {
      "cell_type": "code",
      "metadata": {
        "colab": {
          "base_uri": "https://localhost:8080/"
        },
        "id": "gpn1niyqRymV",
        "outputId": "e7368292-cdeb-4121-bc76-fadd5fe70b28"
      },
      "source": [
        "if __name__ == '__main__':\n",
        "    try:\n",
        "        file = open(\"/content/input2.txt\", 'r')\n",
        "        fixed_positions = int(file.readline())\n",
        "        no_of_con = int(file.readline())\n",
        "        graph = {edges:[] for edges in range(0,fixed_positions)}\n",
        "        for connection in range(0, no_of_con):\n",
        "            cur_con = file.readline().strip().split()\n",
        "            graph[int(cur_con[0])].append(int(cur_con[1]))\n",
        "            graph[int(cur_con[1])].append(int(cur_con[0]))\n",
        "        Lina_pos = int(file.readline())\n",
        "        Nora_pos = int(file.readline())\n",
        "        Lara_pos = int(file.readline())\n",
        "    except Exception as error:\n",
        "        print(\"Error occured while taking input. \", error)\n",
        "    moves = NumOfMoves(Lina_pos,[Nora_pos, Lara_pos],graph)\n",
        "    Nora_moves = moves[Nora_pos]\n",
        "    Lara_moves = moves[Lara_pos] \n",
        "    if Nora_moves < Lara_moves:\n",
        "        print(\"Nora\")\n",
        "    elif Lara_moves < Nora_moves:\n",
        "        print(\"Lara\")\n",
        "    else:\n",
        "        print(\"both\")\n"
      ],
      "execution_count": null,
      "outputs": [
        {
          "output_type": "stream",
          "text": [
            "Nora\n"
          ],
          "name": "stdout"
        }
      ]
    },
    {
      "cell_type": "code",
      "metadata": {
        "id": "aIh1arnuW3LH"
      },
      "source": [
        "def DFS(cur_node,visited,moves,graph):\n",
        "    visited[cur_node] = True\n",
        "    for adjacent in graph[cur_node]:\n",
        "        if moves[adjacent] == -1 or moves[cur_node] + 1 < moves[adjacent]:\n",
        "            moves[adjacent] = moves[cur_node] + 1\n",
        "        if not visited[adjacent]:\n",
        "            DFS(adjacent, visited, moves, graph)\n",
        "def MinMoves(_from, to, graph):\n",
        "    positions = len(graph)\n",
        "    visited = [False]*positions\n",
        "    moves = [-1]*positions\n",
        "    moves[_from] = 0\n",
        "    DFS(_from,visited,moves, graph)\n",
        "    return min([moves[to[k]] for k in range(0,len(to))])"
      ],
      "execution_count": null,
      "outputs": []
    },
    {
      "cell_type": "code",
      "metadata": {
        "colab": {
          "base_uri": "https://localhost:8080/"
        },
        "id": "xHU8U900Gkvd",
        "outputId": "e70c0716-b465-45fa-fa31-406b164662fb"
      },
      "source": [
        "if __name__ == '__main__':\n",
        "    try:\n",
        "        file = open(\"/content/input3.txt\", 'r')\n",
        "        fixed_positions = int(file.readline())\n",
        "        no_of_con = int(file.readline())\n",
        "        graph = {edges:[] for edges in range(0,fixed_positions)}\n",
        "        for connection in range(0, no_of_con):\n",
        "            cur_con = file.readline().strip().split()\n",
        "            graph[int(cur_con[0])].append(int(cur_con[1]))\n",
        "            graph[int(cur_con[1])].append(int(cur_con[0]))\n",
        "        Lina_pos = int(file.readline())\n",
        "        participants = int(file.readline())\n",
        "        pos_participant = [0]*participants\n",
        "        for participant in range (0,participants):\n",
        "            pos_participant[participant] = int(file.readline())\n",
        "        # print(pos_participant)\n",
        "\n",
        "    except Exception as error:\n",
        "        print(\"Error occured while taking input. \", error)\n",
        "    print(MinMoves(Lina_pos, pos_participant, graph))"
      ],
      "execution_count": null,
      "outputs": [
        {
          "output_type": "stream",
          "text": [
            "2\n"
          ],
          "name": "stdout"
        }
      ]
    },
    {
      "cell_type": "code",
      "metadata": {
        "id": "DFVb7WFeLgDL"
      },
      "source": [
        ""
      ],
      "execution_count": null,
      "outputs": []
    }
  ]
}