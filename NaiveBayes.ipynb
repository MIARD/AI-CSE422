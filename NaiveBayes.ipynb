{
  "nbformat": 4,
  "nbformat_minor": 0,
  "metadata": {
    "colab": {
      "name": "NaiveBayes.ipynb",
      "provenance": [],
      "collapsed_sections": [],
      "include_colab_link": true
    },
    "kernelspec": {
      "name": "python3",
      "display_name": "Python 3"
    },
    "language_info": {
      "name": "python"
    }
  },
  "cells": [
    {
      "cell_type": "markdown",
      "metadata": {
        "id": "view-in-github",
        "colab_type": "text"
      },
      "source": [
        "<a href=\"https://colab.research.google.com/github/MIARD/AI-CSE422/blob/main/NaiveBayes.ipynb\" target=\"_parent\"><img src=\"https://colab.research.google.com/assets/colab-badge.svg\" alt=\"Open In Colab\"/></a>"
      ]
    },
    {
      "cell_type": "code",
      "metadata": {
        "id": "1m3BupFx_xaK"
      },
      "source": [
        "import numpy as np\n",
        "import pandas as pd"
      ],
      "execution_count": null,
      "outputs": []
    },
    {
      "cell_type": "code",
      "metadata": {
        "id": "sYX3rKJXA1bO",
        "colab": {
          "base_uri": "https://localhost:8080/"
        },
        "outputId": "08232b44-f09f-46be-8109-81bd3496380e"
      },
      "source": [
        "data = pd.read_csv(\"/content/test4.csv\")\n",
        "print(data)"
      ],
      "execution_count": null,
      "outputs": [
        {
          "output_type": "stream",
          "name": "stdout",
          "text": [
            "   Land Elevation Weather Soil Type  Temp Crop Cultivation\n",
            "0            High   Sunny     Sandy    35              Yes\n",
            "1            High   Sunny      Clay    24               No\n",
            "2            High   Sunny      Clay    14              Yes\n",
            "3            High   Rainy      Clay    26               No\n",
            "4          Medium   Rainy      Silt    21              Yes\n",
            "5          Medium   Sunny      Silt    11               No\n",
            "6          Medium   Sunny      Clay    30              Yes\n",
            "7          Medium   Sunny      Clay    19               No\n",
            "8             Low   Rainy     Sandy    12              Yes\n",
            "9             Low   Rainy     Sandy    28               No\n",
            "10            Low   Sunny     Sandy    23              Yes\n",
            "11            Low   Sunny      Silt    13               No\n"
          ]
        }
      ]
    },
    {
      "cell_type": "code",
      "metadata": {
        "colab": {
          "base_uri": "https://localhost:8080/"
        },
        "id": "gpxndyVqBKvM",
        "outputId": "75f7916d-598a-4339-d54a-6d46ee9dd0e4"
      },
      "source": [
        "\n",
        "# data.loc[(data[\"Temp\"] >=16, data[\"Temp\"] <=25, \"Temp\")] = \"Medium\"\n",
        "# data['Temp'] = np.where((data[\"Temp\"] >=16 ) & (data[\"Temp\"] <=25) , \"medium\", data['Temp'])\n",
        "# data.loc[ data[\"Temp\"] >25, \"Temp\"] = \"high\"\n",
        "conditions = [\n",
        "    (data['Temp'] < 16),\n",
        "    (data['Temp'] >= 16) & (data['Temp'] <= 25),\n",
        "    (data['Temp'] > 25)\n",
        "]\n",
        "values = ['Low', 'Medium', 'High']\n",
        "data['Temp'] = np.select(conditions, values)\n",
        "\n",
        "print(data)"
      ],
      "execution_count": null,
      "outputs": [
        {
          "output_type": "stream",
          "name": "stdout",
          "text": [
            "   Land Elevation Weather Soil Type    Temp Crop Cultivation\n",
            "0            High   Sunny     Sandy    High              Yes\n",
            "1            High   Sunny      Clay  Medium               No\n",
            "2            High   Sunny      Clay     Low              Yes\n",
            "3            High   Rainy      Clay    High               No\n",
            "4          Medium   Rainy      Silt  Medium              Yes\n",
            "5          Medium   Sunny      Silt     Low               No\n",
            "6          Medium   Sunny      Clay    High              Yes\n",
            "7          Medium   Sunny      Clay  Medium               No\n",
            "8             Low   Rainy     Sandy     Low              Yes\n",
            "9             Low   Rainy     Sandy    High               No\n",
            "10            Low   Sunny     Sandy  Medium              Yes\n",
            "11            Low   Sunny      Silt     Low               No\n"
          ]
        }
      ]
    },
    {
      "cell_type": "code",
      "metadata": {
        "colab": {
          "base_uri": "https://localhost:8080/"
        },
        "id": "EfkUG30uBPFX",
        "outputId": "b8899f6f-f90d-4f9e-dbba-0bd5e9629b51"
      },
      "source": [
        "len(data[(data['Weather']=='sunny') & (data['Cloudy'] == 'cloudy')])"
      ],
      "execution_count": null,
      "outputs": [
        {
          "output_type": "execute_result",
          "data": {
            "text/plain": [
              "3"
            ]
          },
          "metadata": {},
          "execution_count": 4
        }
      ]
    },
    {
      "cell_type": "code",
      "metadata": {
        "id": "x5_FntGVDyIW"
      },
      "source": [
        "def margin(data, main, target):\n",
        "  c, c_count = np.unique(data[main], return_counts=True)\n",
        "  r, r_count = np.unique(data[target], return_counts=True)\n",
        "  tst = pd.DataFrame(np.random.randn(len(r), len(c)), index = r, columns=c)\n",
        "  s_t = tst.copy()\n",
        "  for col, cval in zip(c, c_count):\n",
        "    for row in r:\n",
        "      rval = len(data[(data[main]==col) & (data[target] == row)])\n",
        "      tst[col][row]= rval/cval\n",
        "      s_t[col][row]= (str(rval)+ \"/\" + str(cval))\n",
        "  return tst, s_t"
      ],
      "execution_count": null,
      "outputs": []
    },
    {
      "cell_type": "code",
      "metadata": {
        "colab": {
          "base_uri": "https://localhost:8080/"
        },
        "id": "Qw0Fe4tXFvO_",
        "outputId": "f2878e87-9f57-45db-81e9-55ceb4d026be"
      },
      "source": [
        "main = 'Weather'\n",
        "c, c_count = np.unique(data[main], return_counts=True)\n",
        "print(c, c_count, end='\\n\\n')\n",
        "total = sum(c_count)\n",
        "t_p = {}\n",
        "for m, mval in zip(c, c_count):\n",
        "  prob = mval/total\n",
        "  t_p[m] = prob\n",
        "  print(f\"P({m}) = {mval} / {total} = {prob}\\n\")\n",
        "trgt = data.columns\n",
        "targets = np.delete(trgt, np.where(trgt==main))\n",
        "temp = {}\n",
        "for target in targets:\n",
        "  print(f\"\\nP({target}|{main}): \")\n",
        "  tst, s_t = margin(data, main, target)\n",
        "  temp[target] = tst\n",
        "  print(s_t)\n",
        "  print(tst)\n",
        "  print('\\n')\n",
        "res = {'Crop Cultivation': 'No', \"Land Elevation\": 'Medium', 'Temp':'Medium', 'Soil Type':'Silt'}\n",
        "for m in c:\n",
        "  print(f\"P({m}| \", end =\"\")\n",
        "  for x, y in res.items():\n",
        "    print(f'{x} = {y} and ', end = \"\")\n",
        "  print(\") = \", end = \"\")\n",
        "  result = 1\n",
        "  for x, y in res.items():\n",
        "    result *= temp[x][m][y]\n",
        "    print(temp[x][m][y], end = \" * \")\n",
        "  result *= t_p[m]\n",
        "  print(f\"{t_p[m]} = {result}\")\n",
        "print('\\n\\n\\n')"
      ],
      "execution_count": null,
      "outputs": [
        {
          "output_type": "stream",
          "name": "stdout",
          "text": [
            "['Rainy' 'Sunny'] [4 8]\n",
            "\n",
            "P(Rainy) = 4 / 12 = 0.3333333333333333\n",
            "\n",
            "P(Sunny) = 8 / 12 = 0.6666666666666666\n",
            "\n",
            "\n",
            "P(Land Elevation|Weather): \n",
            "       Rainy Sunny\n",
            "High     1/4   3/8\n",
            "Low      2/4   2/8\n",
            "Medium   1/4   3/8\n",
            "        Rainy  Sunny\n",
            "High     0.25  0.375\n",
            "Low      0.50  0.250\n",
            "Medium   0.25  0.375\n",
            "\n",
            "\n",
            "\n",
            "P(Soil Type|Weather): \n",
            "      Rainy Sunny\n",
            "Clay    1/4   4/8\n",
            "Sandy   2/4   2/8\n",
            "Silt    1/4   2/8\n",
            "       Rainy  Sunny\n",
            "Clay    0.25   0.50\n",
            "Sandy   0.50   0.25\n",
            "Silt    0.25   0.25\n",
            "\n",
            "\n",
            "\n",
            "P(Temp|Weather): \n",
            "       Rainy Sunny\n",
            "High     2/4   2/8\n",
            "Low      1/4   3/8\n",
            "Medium   1/4   3/8\n",
            "        Rainy  Sunny\n",
            "High     0.50  0.250\n",
            "Low      0.25  0.375\n",
            "Medium   0.25  0.375\n",
            "\n",
            "\n",
            "\n",
            "P(Crop Cultivation|Weather): \n",
            "    Rainy Sunny\n",
            "No    2/4   4/8\n",
            "Yes   2/4   4/8\n",
            "     Rainy  Sunny\n",
            "No     0.5    0.5\n",
            "Yes    0.5    0.5\n",
            "\n",
            "\n",
            "P(Rainy| Crop Cultivation = No and Land Elevation = Medium and Temp = Medium and Soil Type = Silt and ) = 0.5 * 0.25 * 0.25 * 0.25 * 0.3333333333333333 = 0.0026041666666666665\n",
            "P(Sunny| Crop Cultivation = No and Land Elevation = Medium and Temp = Medium and Soil Type = Silt and ) = 0.5 * 0.375 * 0.375 * 0.25 * 0.6666666666666666 = 0.01171875\n",
            "\n",
            "\n",
            "\n",
            "\n"
          ]
        },
        {
          "output_type": "stream",
          "name": "stderr",
          "text": [
            "/usr/local/lib/python3.7/dist-packages/ipykernel_launcher.py:10: SettingWithCopyWarning: \n",
            "A value is trying to be set on a copy of a slice from a DataFrame\n",
            "\n",
            "See the caveats in the documentation: https://pandas.pydata.org/pandas-docs/stable/user_guide/indexing.html#returning-a-view-versus-a-copy\n",
            "  # Remove the CWD from sys.path while we load stuff.\n",
            "/usr/local/lib/python3.7/dist-packages/pandas/core/indexing.py:670: SettingWithCopyWarning: \n",
            "A value is trying to be set on a copy of a slice from a DataFrame\n",
            "\n",
            "See the caveats in the documentation: https://pandas.pydata.org/pandas-docs/stable/user_guide/indexing.html#returning-a-view-versus-a-copy\n",
            "  iloc._setitem_with_indexer(indexer, value)\n",
            "/usr/local/lib/python3.7/dist-packages/ipykernel_launcher.py:10: SettingWithCopyWarning: \n",
            "A value is trying to be set on a copy of a slice from a DataFrame\n",
            "\n",
            "See the caveats in the documentation: https://pandas.pydata.org/pandas-docs/stable/user_guide/indexing.html#returning-a-view-versus-a-copy\n",
            "  # Remove the CWD from sys.path while we load stuff.\n",
            "/usr/local/lib/python3.7/dist-packages/pandas/core/indexing.py:670: SettingWithCopyWarning: \n",
            "A value is trying to be set on a copy of a slice from a DataFrame\n",
            "\n",
            "See the caveats in the documentation: https://pandas.pydata.org/pandas-docs/stable/user_guide/indexing.html#returning-a-view-versus-a-copy\n",
            "  iloc._setitem_with_indexer(indexer, value)\n",
            "/usr/local/lib/python3.7/dist-packages/ipykernel_launcher.py:10: SettingWithCopyWarning: \n",
            "A value is trying to be set on a copy of a slice from a DataFrame\n",
            "\n",
            "See the caveats in the documentation: https://pandas.pydata.org/pandas-docs/stable/user_guide/indexing.html#returning-a-view-versus-a-copy\n",
            "  # Remove the CWD from sys.path while we load stuff.\n",
            "/usr/local/lib/python3.7/dist-packages/pandas/core/indexing.py:670: SettingWithCopyWarning: \n",
            "A value is trying to be set on a copy of a slice from a DataFrame\n",
            "\n",
            "See the caveats in the documentation: https://pandas.pydata.org/pandas-docs/stable/user_guide/indexing.html#returning-a-view-versus-a-copy\n",
            "  iloc._setitem_with_indexer(indexer, value)\n",
            "/usr/local/lib/python3.7/dist-packages/ipykernel_launcher.py:10: SettingWithCopyWarning: \n",
            "A value is trying to be set on a copy of a slice from a DataFrame\n",
            "\n",
            "See the caveats in the documentation: https://pandas.pydata.org/pandas-docs/stable/user_guide/indexing.html#returning-a-view-versus-a-copy\n",
            "  # Remove the CWD from sys.path while we load stuff.\n",
            "/usr/local/lib/python3.7/dist-packages/pandas/core/indexing.py:670: SettingWithCopyWarning: \n",
            "A value is trying to be set on a copy of a slice from a DataFrame\n",
            "\n",
            "See the caveats in the documentation: https://pandas.pydata.org/pandas-docs/stable/user_guide/indexing.html#returning-a-view-versus-a-copy\n",
            "  iloc._setitem_with_indexer(indexer, value)\n"
          ]
        }
      ]
    },
    {
      "cell_type": "code",
      "metadata": {
        "colab": {
          "base_uri": "https://localhost:8080/"
        },
        "id": "tGfiJttJcpnh",
        "outputId": "6e8acedc-2b54-494b-dfba-2d573f344b5a"
      },
      "source": [
        "temp"
      ],
      "execution_count": null,
      "outputs": [
        {
          "output_type": "execute_result",
          "data": {
            "text/plain": [
              "{'Cloudy':                rainy  sunny\n",
              " cloudy      0.333333   0.75\n",
              " not cloudy  0.666667   0.25, 'Temparature':           rainy  sunny\n",
              " cold   0.666667    0.5\n",
              " sunny  0.333333    0.5}"
            ]
          },
          "metadata": {},
          "execution_count": 157
        }
      ]
    },
    {
      "cell_type": "code",
      "metadata": {
        "colab": {
          "base_uri": "https://localhost:8080/"
        },
        "id": "di_E5P_bdGnZ",
        "outputId": "3a0cecce-2e8a-4d28-beed-117e94d04852"
      },
      "source": [
        "temp['Cloudy']['rainy']['cloudy']"
      ],
      "execution_count": null,
      "outputs": [
        {
          "output_type": "execute_result",
          "data": {
            "text/plain": [
              "0.3333333333333333"
            ]
          },
          "metadata": {},
          "execution_count": 160
        }
      ]
    },
    {
      "cell_type": "code",
      "metadata": {
        "colab": {
          "base_uri": "https://localhost:8080/",
          "height": 266
        },
        "id": "b-zBz6LCdK1T",
        "outputId": "545e9029-242b-472c-a8f1-82f9296c3ff9"
      },
      "source": [
        "x = data.copy()\n",
        "x"
      ],
      "execution_count": null,
      "outputs": [
        {
          "output_type": "execute_result",
          "data": {
            "text/html": [
              "<div>\n",
              "<style scoped>\n",
              "    .dataframe tbody tr th:only-of-type {\n",
              "        vertical-align: middle;\n",
              "    }\n",
              "\n",
              "    .dataframe tbody tr th {\n",
              "        vertical-align: top;\n",
              "    }\n",
              "\n",
              "    .dataframe thead th {\n",
              "        text-align: right;\n",
              "    }\n",
              "</style>\n",
              "<table border=\"1\" class=\"dataframe\">\n",
              "  <thead>\n",
              "    <tr style=\"text-align: right;\">\n",
              "      <th></th>\n",
              "      <th>Temparature</th>\n",
              "      <th>Cloudy</th>\n",
              "      <th>Weather</th>\n",
              "    </tr>\n",
              "  </thead>\n",
              "  <tbody>\n",
              "    <tr>\n",
              "      <th>0</th>\n",
              "      <td>cold</td>\n",
              "      <td>cloudy</td>\n",
              "      <td>sunny</td>\n",
              "    </tr>\n",
              "    <tr>\n",
              "      <th>1</th>\n",
              "      <td>sunny</td>\n",
              "      <td>not cloudy</td>\n",
              "      <td>sunny</td>\n",
              "    </tr>\n",
              "    <tr>\n",
              "      <th>2</th>\n",
              "      <td>cold</td>\n",
              "      <td>not cloudy</td>\n",
              "      <td>rainy</td>\n",
              "    </tr>\n",
              "    <tr>\n",
              "      <th>3</th>\n",
              "      <td>cold</td>\n",
              "      <td>cloudy</td>\n",
              "      <td>rainy</td>\n",
              "    </tr>\n",
              "    <tr>\n",
              "      <th>4</th>\n",
              "      <td>sunny</td>\n",
              "      <td>cloudy</td>\n",
              "      <td>sunny</td>\n",
              "    </tr>\n",
              "    <tr>\n",
              "      <th>5</th>\n",
              "      <td>sunny</td>\n",
              "      <td>not cloudy</td>\n",
              "      <td>rainy</td>\n",
              "    </tr>\n",
              "    <tr>\n",
              "      <th>6</th>\n",
              "      <td>cold</td>\n",
              "      <td>cloudy</td>\n",
              "      <td>sunny</td>\n",
              "    </tr>\n",
              "  </tbody>\n",
              "</table>\n",
              "</div>"
            ],
            "text/plain": [
              "  Temparature      Cloudy Weather\n",
              "0        cold      cloudy   sunny\n",
              "1       sunny  not cloudy   sunny\n",
              "2        cold  not cloudy   rainy\n",
              "3        cold      cloudy   rainy\n",
              "4       sunny      cloudy   sunny\n",
              "5       sunny  not cloudy   rainy\n",
              "6        cold      cloudy   sunny"
            ]
          },
          "metadata": {},
          "execution_count": 166
        }
      ]
    },
    {
      "cell_type": "code",
      "metadata": {
        "id": "EmBn5GhsiAse"
      },
      "source": [
        "x.loc[x[\"Temparature\"] == 'sunny', \"Temparature\"] = \"hot\""
      ],
      "execution_count": null,
      "outputs": []
    },
    {
      "cell_type": "code",
      "metadata": {
        "colab": {
          "base_uri": "https://localhost:8080/",
          "height": 266
        },
        "id": "xUwxJnxCiT89",
        "outputId": "7b1db7cf-dcfb-4dc0-de2e-a571ca749681"
      },
      "source": [
        "x"
      ],
      "execution_count": null,
      "outputs": [
        {
          "output_type": "execute_result",
          "data": {
            "text/html": [
              "<div>\n",
              "<style scoped>\n",
              "    .dataframe tbody tr th:only-of-type {\n",
              "        vertical-align: middle;\n",
              "    }\n",
              "\n",
              "    .dataframe tbody tr th {\n",
              "        vertical-align: top;\n",
              "    }\n",
              "\n",
              "    .dataframe thead th {\n",
              "        text-align: right;\n",
              "    }\n",
              "</style>\n",
              "<table border=\"1\" class=\"dataframe\">\n",
              "  <thead>\n",
              "    <tr style=\"text-align: right;\">\n",
              "      <th></th>\n",
              "      <th>Temparature</th>\n",
              "      <th>Cloudy</th>\n",
              "      <th>Weather</th>\n",
              "    </tr>\n",
              "  </thead>\n",
              "  <tbody>\n",
              "    <tr>\n",
              "      <th>0</th>\n",
              "      <td>cold</td>\n",
              "      <td>cloudy</td>\n",
              "      <td>sunny</td>\n",
              "    </tr>\n",
              "    <tr>\n",
              "      <th>1</th>\n",
              "      <td>hot</td>\n",
              "      <td>not cloudy</td>\n",
              "      <td>sunny</td>\n",
              "    </tr>\n",
              "    <tr>\n",
              "      <th>2</th>\n",
              "      <td>cold</td>\n",
              "      <td>not cloudy</td>\n",
              "      <td>rainy</td>\n",
              "    </tr>\n",
              "    <tr>\n",
              "      <th>3</th>\n",
              "      <td>cold</td>\n",
              "      <td>cloudy</td>\n",
              "      <td>rainy</td>\n",
              "    </tr>\n",
              "    <tr>\n",
              "      <th>4</th>\n",
              "      <td>hot</td>\n",
              "      <td>cloudy</td>\n",
              "      <td>sunny</td>\n",
              "    </tr>\n",
              "    <tr>\n",
              "      <th>5</th>\n",
              "      <td>hot</td>\n",
              "      <td>not cloudy</td>\n",
              "      <td>rainy</td>\n",
              "    </tr>\n",
              "    <tr>\n",
              "      <th>6</th>\n",
              "      <td>cold</td>\n",
              "      <td>cloudy</td>\n",
              "      <td>sunny</td>\n",
              "    </tr>\n",
              "  </tbody>\n",
              "</table>\n",
              "</div>"
            ],
            "text/plain": [
              "  Temparature      Cloudy Weather\n",
              "0        cold      cloudy   sunny\n",
              "1         hot  not cloudy   sunny\n",
              "2        cold  not cloudy   rainy\n",
              "3        cold      cloudy   rainy\n",
              "4         hot      cloudy   sunny\n",
              "5         hot  not cloudy   rainy\n",
              "6        cold      cloudy   sunny"
            ]
          },
          "metadata": {},
          "execution_count": 168
        }
      ]
    },
    {
      "cell_type": "code",
      "metadata": {
        "id": "vzkUu-1GiUgr"
      },
      "source": [
        ""
      ],
      "execution_count": null,
      "outputs": []
    }
  ]
}